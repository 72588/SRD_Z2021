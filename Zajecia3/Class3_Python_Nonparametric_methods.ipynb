{
 "cells": [
  {
   "cell_type": "markdown",
   "metadata": {},
   "source": [
    "# Laboratorium 3 - Nieparametryczne modele regresyjne"
   ]
  },
  {
   "cell_type": "markdown",
   "metadata": {},
   "source": [
    "**Statystyczne Reguły Decyzyjne**"
   ]
  },
  {
   "cell_type": "markdown",
   "metadata": {
    "toc": true
   },
   "source": [
    "<h1>Table of Contents<span class=\"tocSkip\"></span></h1>\n",
    "<div class=\"toc\"><ul class=\"toc-item\"><li><span><a href=\"#EDA\" data-toc-modified-id=\"EDA-1\"><span class=\"toc-item-num\">1&nbsp;&nbsp;</span>EDA</a></span></li><li><span><a href=\"#Splines\" data-toc-modified-id=\"Splines-2\"><span class=\"toc-item-num\">2&nbsp;&nbsp;</span>Splines</a></span></li><li><span><a href=\"#Regresja-lokalna\" data-toc-modified-id=\"Regresja-lokalna-3\"><span class=\"toc-item-num\">3&nbsp;&nbsp;</span>Regresja lokalna</a></span></li><li><span><a href=\"#Uogólnione-modele-addytywne-(GAM)\" data-toc-modified-id=\"Uogólnione-modele-addytywne-(GAM)-4\"><span class=\"toc-item-num\">4&nbsp;&nbsp;</span>Uogólnione modele addytywne (GAM)</a></span></li></ul></div>"
   ]
  },
  {
   "cell_type": "markdown",
   "metadata": {},
   "source": [
    "## EDA"
   ]
  },
  {
   "cell_type": "code",
   "execution_count": null,
   "metadata": {},
   "outputs": [],
   "source": [
    "#!pip install csaps\n",
    "#!pip install pygam"
   ]
  },
  {
   "cell_type": "code",
   "execution_count": null,
   "metadata": {},
   "outputs": [],
   "source": [
    "import pandas as pd\n",
    "import numpy as np\n",
    "import matplotlib.pyplot as plt  \n",
    "import seaborn as sns\n",
    "import math\n",
    "from scipy import stats\n",
    "from scipy.interpolate import interp1d\n",
    "import csaps\n",
    "import copy\n",
    "import statsmodels.api as sm\n",
    "from pygam import LogisticGAM, l, s, f\n",
    "from sklearn.datasets import load_breast_cancer\n",
    "%matplotlib inline "
   ]
  },
  {
   "cell_type": "markdown",
   "metadata": {},
   "source": [
    "<br>\n",
    "\n",
    "**Załadowanie i eksploracja danych**"
   ]
  },
  {
   "cell_type": "code",
   "execution_count": null,
   "metadata": {},
   "outputs": [],
   "source": [
    "dataset = pd.read_fwf(\"https://raw.githubusercontent.com/KrainskiL/SLM_Z2021/master/Zajecia3/DATA4-12.txt\", \n",
    "                     names = [\"MORT\", \"INCC\", \"POV\", \"EDU1\", \"EDU2\", \"ALCC\",\n",
    "                     \"TOBC\", \"HEXC\", \"PHYS\", \"URB\", \"AGED\"])\n",
    "dataset.head()"
   ]
  },
  {
   "cell_type": "markdown",
   "metadata": {},
   "source": [
    "**Statystyki opisowe**"
   ]
  },
  {
   "cell_type": "code",
   "execution_count": null,
   "metadata": {
    "scrolled": false
   },
   "outputs": [],
   "source": [
    "dataset.describe()"
   ]
  },
  {
   "cell_type": "markdown",
   "metadata": {},
   "source": [
    "<br>\n",
    "\n",
    "**Macierze korelacji**\n",
    "\n",
    "https://towardsdatascience.com/better-heatmaps-and-correlation-matrix-plots-in-python-41445d0f2bec"
   ]
  },
  {
   "cell_type": "code",
   "execution_count": null,
   "metadata": {
    "scrolled": true
   },
   "outputs": [],
   "source": [
    "corr = dataset.corr()\n",
    "corr"
   ]
  },
  {
   "cell_type": "code",
   "execution_count": null,
   "metadata": {},
   "outputs": [],
   "source": [
    "plt.rcParams['figure.figsize'] = [5,5]\n",
    "ax = sns.heatmap(corr, square = True)"
   ]
  },
  {
   "cell_type": "code",
   "execution_count": null,
   "metadata": {},
   "outputs": [],
   "source": [
    "#https://seaborn.pydata.org/generated/seaborn.diverging_palette.html\n",
    "plt.rcParams['figure.figsize'] = [5,5]\n",
    "ax = sns.heatmap(corr, square = True, cmap=sns.diverging_palette(20, 220, n=200))\n",
    "ax.set_xticklabels(\n",
    "    ax.get_xticklabels(),\n",
    "    rotation=45,\n",
    "    horizontalalignment='right');"
   ]
  },
  {
   "cell_type": "code",
   "execution_count": null,
   "metadata": {},
   "outputs": [],
   "source": [
    "#Changing square size to show correlation strength\n",
    "def heatmap(x, y, size):\n",
    "    fig, ax = plt.subplots()\n",
    "    \n",
    "    # Mapping from column names to integer coordinates\n",
    "    x_labels = [v for v in sorted(x.unique())]\n",
    "    y_labels = [v for v in sorted(y.unique())]\n",
    "    x_to_num = {p[1]:p[0] for p in enumerate(x_labels)} \n",
    "    y_to_num = {p[1]:p[0] for p in enumerate(y_labels)} \n",
    "    \n",
    "    size_scale = 500\n",
    "    ax.scatter(\n",
    "        x=x.map(x_to_num), # Use mapping for x\n",
    "        y=y.map(y_to_num), # Use mapping for y\n",
    "        s=(size * size_scale).abs(), # Vector of square sizes, proportional to size parameter\n",
    "        c=size* size_scale,\n",
    "        marker='s' # Use square as scatterplot marker\n",
    "    )\n",
    "    \n",
    "    # Show column labels on the axes\n",
    "    ax.set_xticks([x_to_num[v] for v in x_labels])\n",
    "    ax.set_xticklabels(x_labels, rotation=45, horizontalalignment='right')\n",
    "    ax.set_yticks([y_to_num[v] for v in y_labels])\n",
    "    ax.set_yticklabels(y_labels)"
   ]
  },
  {
   "cell_type": "code",
   "execution_count": null,
   "metadata": {
    "scrolled": true
   },
   "outputs": [],
   "source": [
    "corr = dataset.corr()\n",
    "corr = pd.melt(corr.reset_index(), id_vars='index') # Unpivot the dataframe, so we can get pair of arrays for x and y\n",
    "corr.columns = ['x', 'y', 'value']\n",
    "heatmap(\n",
    "    x=corr['x'],\n",
    "    y=corr['y'],\n",
    "    size=corr['value']\n",
    ")"
   ]
  },
  {
   "cell_type": "code",
   "execution_count": null,
   "metadata": {},
   "outputs": [],
   "source": [
    "#Caluclating p-value for each correlation value\n",
    "corr = dataset.corr()\n",
    "corr_new = copy.deepcopy(corr)\n",
    "corr_p = copy.deepcopy(corr)\n",
    "for i in np.arange(1,corr.shape[0]):\n",
    "    for j in np.arange(1,corr.shape[1]):\n",
    "        corr_p.iloc[i,j] = stats.stats.pearsonr( dataset[corr.index.values[i]], dataset[corr.columns[j]] )[1]"
   ]
  },
  {
   "cell_type": "code",
   "execution_count": null,
   "metadata": {},
   "outputs": [],
   "source": [
    "indices = corr_p > 0.05\n",
    "corr_new[indices] = 0\n",
    "corr_new"
   ]
  },
  {
   "cell_type": "code",
   "execution_count": null,
   "metadata": {},
   "outputs": [],
   "source": [
    "plt.rcParams['figure.figsize'] = [5,5]\n",
    "ax = sns.heatmap(corr_new, square = True,\n",
    "                vmin = -1, vmax = 1, center = 0,\n",
    "                cmap=sns.diverging_palette(30, 150, n=200))"
   ]
  },
  {
   "cell_type": "markdown",
   "metadata": {},
   "source": [
    "**Wykresy pudełkowe**"
   ]
  },
  {
   "cell_type": "code",
   "execution_count": null,
   "metadata": {},
   "outputs": [],
   "source": [
    "fig, axes = plt.subplots(4,3,figsize=[15,10])\n",
    "num_cols=dataset.select_dtypes(include=np.number).columns\n",
    "for i, col in enumerate(num_cols):\n",
    "    sns.boxplot(x=col,color=np.random.rand(3,), data=dataset, ax=axes[i//3,i%3],fliersize=1,width=0.6)\n",
    "fig.delaxes(axes[3,2])\n",
    "plt.tight_layout()"
   ]
  },
  {
   "cell_type": "markdown",
   "metadata": {},
   "source": [
    "**Histogramy z estymacją funkcji gęstości**"
   ]
  },
  {
   "cell_type": "code",
   "execution_count": null,
   "metadata": {},
   "outputs": [],
   "source": [
    "fig, axes = plt.subplots(4,3,figsize=[15,10])\n",
    "num_cols=dataset.select_dtypes(include=np.number).columns\n",
    "for i, col in enumerate(num_cols):\n",
    "    sns.distplot(dataset[col],ax=axes[i//3,i%3])\n",
    "fig.delaxes(axes[3,2])\n",
    "plt.tight_layout()"
   ]
  },
  {
   "cell_type": "markdown",
   "metadata": {},
   "source": [
    "<br>\n",
    "\n",
    "**Wykresy rozrzutu**"
   ]
  },
  {
   "cell_type": "code",
   "execution_count": null,
   "metadata": {
    "scrolled": false
   },
   "outputs": [],
   "source": [
    "sns.set(style = \"ticks\")\n",
    "sns.pairplot(dataset);"
   ]
  },
  {
   "cell_type": "code",
   "execution_count": null,
   "metadata": {},
   "outputs": [],
   "source": [
    "fig, axes = plt.subplots(4,3,figsize=[15,10])\n",
    "for i, col in enumerate(num_cols):\n",
    "    c_ax=axes[i//3,i%3]\n",
    "    sns.regplot(x=col,y='MORT',color=sns.color_palette(\"muted\", n_colors=11)[i], \n",
    "                data=dataset, ax=c_ax, order=3)\n",
    "    slope, intercept, *_ = stats.linregress(dataset[col],dataset['MORT'])\n",
    "    line = slope*dataset[col]+intercept\n",
    "    c_ax.plot(dataset[col], line, 'black', alpha=0.5)\n",
    "fig.delaxes(axes[3,2])\n",
    "plt.tight_layout()"
   ]
  },
  {
   "cell_type": "markdown",
   "metadata": {},
   "source": [
    "## Splines"
   ]
  },
  {
   "cell_type": "markdown",
   "metadata": {},
   "source": [
    "Smoothing spline $f(x)$ jest wyznaczany poprzez optymalizację poniższej formuły:\n",
    "$$\\sum_{i=1}^N(y_i-f(x_i))^2+\\lambda \\int_D(f^{''}(t))^2\\textit{d}t \\rightarrow min$$\n",
    "\n",
    "gdzie $\\lambda$ to parametr wygładzania. Optymalne rozwiązanie powyższej formuły jest zawsze ciagłym splinem złożonym z wielomianów 3 rzędu. "
   ]
  },
  {
   "cell_type": "code",
   "execution_count": null,
   "metadata": {},
   "outputs": [],
   "source": [
    "np.random.seed(1234)\n",
    "\n",
    "x = np.linspace(-5., 5., 25)\n",
    "y = np.exp(-(x/2.5)**2) + (np.random.rand(25) - 0.2) * 0.3\n",
    "clrs = ['b','g','r','y']\n",
    "for i in range(4):\n",
    "    sp = csaps.CubicSmoothingSpline(x, y, smooth = i/3)\n",
    "    xs = np.linspace(x[0], x[-1], 150)\n",
    "    ys = sp(xs)\n",
    "    plt.plot(x, y, 'o', xs, ys, clrs[i]+'-')\n",
    "plt.show()"
   ]
  },
  {
   "cell_type": "code",
   "execution_count": null,
   "metadata": {},
   "outputs": [],
   "source": [
    "fig, axes = plt.subplots(5,2,figsize=[15,10])\n",
    "for i, col in enumerate(num_cols[1:]):\n",
    "    c_ax=axes[i//2,i%2]\n",
    "    sns.regplot(x=col,y='MORT',color=sns.color_palette(\"muted\", n_colors=11)[i], \n",
    "                data=dataset, ax=c_ax, order=3)\n",
    "    srted = dataset[[col,'MORT']].sort_values(by=col).drop_duplicates(subset=col)\n",
    "    spline = csaps.CubicSmoothingSpline(srted[col],srted['MORT'], smooth=0.85)(srted[col])\n",
    "    c_ax.plot(srted[col], spline, 'black', alpha=0.5)\n",
    "plt.tight_layout()"
   ]
  },
  {
   "cell_type": "markdown",
   "metadata": {},
   "source": [
    "## Regresja lokalna"
   ]
  },
  {
   "cell_type": "markdown",
   "metadata": {},
   "source": [
    "Regresja lokalna (LOESS) działa następująco:\n",
    "\n",
    "Dla danego punktu $x_0$ predykcja regresji LOESS drugiego stopnia (wartość domyślna dla funkcji `loess` w R) jest określona formułą:\n",
    "\n",
    "$$\\hat{f}(x_0)=\\hat{\\alpha}(x_0)+\\hat{\\beta}(x_0)x_0+\\hat{\\gamma}(x_0)x_0^2$$\n",
    "\n",
    "Parametry $\\alpha,\\beta,\\gamma$ obliczane są dla danego punktu $x_0$ bazując na zadaniu optymalizacyjnym:\n",
    "\n",
    "$$\\min_{\\alpha(x_0),\\beta(x_0),\\gamma(x_0)} \\sum_{i=1}^NK_{\\lambda}(x_0,x_i)\\left(\\alpha(x_0)+\\beta(x_0)x_i+\\gamma(x_0)x_i^2-y_i\\right)^2$$\n",
    "\n",
    "gdzie $K_{\\lambda}$ jest określone jako:\n",
    "\n",
    "$$K_{\\lambda}(x_0,x_i)=\\phi\\left(\\frac{|x_0-x_i|}{\\lambda}\\right)$$"
   ]
  },
  {
   "cell_type": "code",
   "execution_count": null,
   "metadata": {},
   "outputs": [],
   "source": [
    "housing = pd.read_fwf(\"http://archive.ics.uci.edu/ml/machine-learning-databases/housing/housing.data\",\n",
    "                      names=['CRIM','ZN','INDUS','CHAS','NOX','RM','AGE','DIS','RAD','TAX','PTRATIO','LSTAT','MEDV'])"
   ]
  },
  {
   "cell_type": "code",
   "execution_count": null,
   "metadata": {},
   "outputs": [],
   "source": [
    "plt.rcParams['figure.figsize'] = [10,5]\n",
    "lstat_grid = np.linspace(np.asarray(min(housing['LSTAT'])), np.asarray(max(housing['LSTAT'])), 200)\n",
    "\n",
    "# lowess will return our \"smoothed\" data with a y value for at every x-value\n",
    "lowess = sm.nonparametric.lowess(housing['MEDV'], housing['LSTAT'], frac=.1)\n",
    "lowess2 = sm.nonparametric.lowess(housing['MEDV'], housing['LSTAT'], frac=.9)\n",
    "\n",
    "# unpack the lowess smoothed points to their values\n",
    "lowess_x = list(zip(*lowess))[0]\n",
    "lowess_y = list(zip(*lowess))[1]\n",
    "f = interp1d(lowess_x, lowess_y, bounds_error=False)\n",
    "ynew = f(lstat_grid)\n",
    "\n",
    "lowess_x2 = list(zip(*lowess2))[0]\n",
    "lowess_y2 = list(zip(*lowess2))[1]\n",
    "f2 = interp1d(lowess_x2, lowess_y2, bounds_error=False)\n",
    "ynew2 = f2(lstat_grid)\n",
    "\n",
    "plt.plot(housing['LSTAT'], housing['MEDV'], 'o')\n",
    "plt.plot(lstat_grid, ynew, '-', color = \"red\")\n",
    "plt.plot(lstat_grid, ynew2, '-')\n",
    "plt.title(\"Local regression\")\n",
    "plt.xlabel(\"Median value of the house ($1000s)\")\n",
    "plt.ylabel(\"% lower status of population\")\n",
    "plt.legend(['','0.1', '0.9'])\n",
    "plt.show()"
   ]
  },
  {
   "cell_type": "markdown",
   "metadata": {},
   "source": [
    "## Uogólnione modele addytywne (GAM)"
   ]
  },
  {
   "cell_type": "markdown",
   "metadata": {},
   "source": [
    "https://pygam.readthedocs.io/en/latest/api/gam.html"
   ]
  },
  {
   "cell_type": "markdown",
   "metadata": {},
   "source": [
    "**GLM**\n",
    "\n",
    "$$g(E_Y(y|x))=\\beta_0+\\beta_1{}x_{1}+\\ldots{}\\beta_p{}x_{p}$$\n",
    "\n",
    "$g()$ to funkcja linkująca (link). Na przykład, dla regresji logistycznej:\n",
    "\n",
    "$$ln\\left(\\frac{E_Y(y|x)}{1-E_Y(y|x)}\\right)=ln\\left(\\frac{P(y=1|x)}{1-P(y=1|x)}\\right)=x^{T}\\beta$$\n",
    "\n",
    "**GAM**\n",
    "\n",
    "$$g(E_Y(y|x))=\\beta_0+f_1(x_{1})+f_2(x_{2})+\\ldots+f_p(x_{p})$$"
   ]
  },
  {
   "cell_type": "code",
   "execution_count": null,
   "metadata": {},
   "outputs": [],
   "source": [
    "cancer = load_breast_cancer()\n",
    "cancer_df = pd.DataFrame(cancer.data, columns = cancer.feature_names)\n",
    "y = pd.Series(cancer.target)"
   ]
  },
  {
   "cell_type": "code",
   "execution_count": null,
   "metadata": {},
   "outputs": [],
   "source": [
    "X = cancer_df.iloc[:,0:3]\n",
    "X"
   ]
  },
  {
   "cell_type": "code",
   "execution_count": null,
   "metadata": {},
   "outputs": [],
   "source": [
    "# l - linear, s - spline\n",
    "# others: f - factor, te - tensor\n",
    "gam = LogisticGAM(l(0) + s(1) + s(2)).fit(X, y)\n",
    "gam.summary()"
   ]
  },
  {
   "cell_type": "code",
   "execution_count": null,
   "metadata": {},
   "outputs": [],
   "source": [
    "gam.accuracy(X, y)"
   ]
  },
  {
   "cell_type": "code",
   "execution_count": null,
   "metadata": {},
   "outputs": [],
   "source": [
    "fig, axs = plt.subplots(1, X.shape[1])\n",
    "titles = X.columns\n",
    "\n",
    "for i, ax in enumerate(axs):\n",
    "    XX = gam.generate_X_grid(term=i)\n",
    "    pdep, confi = gam.partial_dependence(term=i, width=.95)\n",
    "\n",
    "    ax.plot(XX[:, i], pdep)\n",
    "    ax.plot(XX[:, i], confi, c='r', ls='--')\n",
    "    ax.set_title(titles[i]);"
   ]
  }
 ],
 "metadata": {
  "kernelspec": {
   "display_name": "Python 3",
   "language": "python",
   "name": "python3"
  },
  "language_info": {
   "codemirror_mode": {
    "name": "ipython",
    "version": 3
   },
   "file_extension": ".py",
   "mimetype": "text/x-python",
   "name": "python",
   "nbconvert_exporter": "python",
   "pygments_lexer": "ipython3",
   "version": "3.7.6"
  },
  "toc": {
   "base_numbering": 1,
   "nav_menu": {},
   "number_sections": true,
   "sideBar": true,
   "skip_h1_title": true,
   "title_cell": "Table of Contents",
   "title_sidebar": "Contents",
   "toc_cell": true,
   "toc_position": {
    "height": "calc(100% - 180px)",
    "left": "10px",
    "top": "150px",
    "width": "255px"
   },
   "toc_section_display": true,
   "toc_window_display": true
  }
 },
 "nbformat": 4,
 "nbformat_minor": 2
}
